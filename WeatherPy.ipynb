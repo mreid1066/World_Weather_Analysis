{
 "cells": [
  {
   "cell_type": "code",
   "execution_count": 1,
   "id": "6a4e119f",
   "metadata": {},
   "outputs": [],
   "source": [
    "# Import the dependencies.\n",
    "import pandas as pd\n",
    "import matplotlib.pyplot as plt\n",
    "import numpy as np"
   ]
  },
  {
   "cell_type": "code",
   "execution_count": 2,
   "id": "a4012119",
   "metadata": {},
   "outputs": [
    {
     "data": {
      "text/plain": [
       "<zip at 0x23ac9e4a408>"
      ]
     },
     "execution_count": 2,
     "metadata": {},
     "output_type": "execute_result"
    }
   ],
   "source": [
    "# Create a set of random latitude and longitude combinations.\n",
    "lats = np.random.uniform(low=-90.000, high=90.000, size=1500)\n",
    "lngs = np.random.uniform(low=-180.000, high=180.000, size=1500)\n",
    "lat_lngs = zip(lats, lngs)\n",
    "lat_lngs"
   ]
  },
  {
   "cell_type": "code",
   "execution_count": 3,
   "id": "6f31b13f",
   "metadata": {},
   "outputs": [],
   "source": [
    "# Add the latitudes and longitudes to a list.\n",
    "coordinates = list(lat_lngs)"
   ]
  },
  {
   "cell_type": "code",
   "execution_count": 4,
   "id": "558529b9",
   "metadata": {},
   "outputs": [],
   "source": [
    "# Use the citipy module to determine city based on latitude and longitude.\n",
    "from citipy import citipy"
   ]
  },
  {
   "cell_type": "code",
   "execution_count": 5,
   "id": "27c3221e",
   "metadata": {},
   "outputs": [
    {
     "data": {
      "text/plain": [
       "614"
      ]
     },
     "execution_count": 5,
     "metadata": {},
     "output_type": "execute_result"
    }
   ],
   "source": [
    "# Create a list for holding the cities.\n",
    "cities = []\n",
    "# Identify the nearest city for each latitude and longitude combination.\n",
    "for coordinate in coordinates:\n",
    "    city = citipy.nearest_city(coordinate[0], coordinate[1]).city_name\n",
    "\n",
    "    # If the city is unique, then we will add it to the cities list.\n",
    "    if city not in cities:\n",
    "        cities.append(city)\n",
    "# Print the city count to confirm sufficient count.\n",
    "len(cities)"
   ]
  },
  {
   "cell_type": "code",
   "execution_count": 7,
   "id": "7c376831",
   "metadata": {},
   "outputs": [
    {
     "name": "stdout",
     "output_type": "stream",
     "text": [
      "['bluff', 'siilinjarvi', 'mataura', 'albany', 'kavieng', 'puerto ayora', 'san cristobal', 'hobart', 'salalah', 'barrow', 'beringovskiy', 'mar del plata', 'rikitea', 'punta arenas', 'saskylakh', 'tiksi', 'los llanos de aridane', 'taolanaro', 'pimentel', 'faanui', 'atasu', 'olinda', 'port elizabeth', 'hilo', 'rock sound', 'san pedro', 'vostok', 'upernavik', 'toliary', 'palora', 'purwodadi', 'atar', 'svetlyy', 'margate', 'bredasdorp', 'henties bay', 'bethel', 'vaini', 'linhares', 'busselton', 'ushuaia', 'vila velha', 'leningradskiy', 'dikson', 'saint george', 'halifax', 'kapaa', 'sentyabrskiy', 'khatanga', 'muros', 'nikolskoye', 'santana', 'voh', 'balikpapan', 'urrutia', 'axim', 'hamilton', 'changying', 'kaeo', 'praia da vitoria', 'puerto colombia', 'belushya guba', 'papenburg', 'minervino murge', 'savelugu', 'haapiti', 'qaanaaq', 'roebourne', 'tanete', 'kadykchan', 'bonthe', 'basco', 'derzhavinsk', 'churachandpur', 'la rioja', 'rabaul', 'tuktoyaktuk', 'saint-augustin', 'port alfred', 'new norfolk', 'kurchum', 'chicama', 'hambantota', 'bentiu', 'pisco', 'birin', 'illoqqortoormiut', 'tilichiki', 'chokurdakh', 'thompson', 'innisfail', 'east london', 'lebu', 'saint anthony', 'saint-francois', 'barentsburg', 'hermanus', 'ribeira grande', 'chernyshevskiy', 'bay roberts', 'dancheng', 'tsihombe', 'turbat', 'carnarvon', 'pitea', 'rocha', 'batemans bay', 'babol', 'kodiak', 'sedelnikovo', 'fevralsk', 'westport', 'miraflores', 'maiduguri', 'oriximina', 'sidi ali', 'meulaboh', 'olavarria', 'okha', 'pevek', 'naze', 'chuy', 'bambanglipuro', 'samarai', 'tumannyy', 'wattegama', 'yellowknife', 'jamestown', 'bathsheba', 'kautokeino', 'guerrero negro', 'cape town', 'maumere', 'longyearbyen', 'ponta do sol', 'sakakah', 'pulandian', 'talnakh', 'aykhal', 'cabedelo', 'kruisfontein', 'isangel', 'hofn', 'klaksvik', 'acari', 'provideniya', 'attawapiskat', 'saldanha', 'dire', 'reforma', 'samusu', 'hithadhoo', 'soyo', 'san patricio', 'sibu', 'ancud', 'severo-kurilsk', 'grand river south east', 'the valley', 'atuona', 'doctor pedro p. pena', 'nabire', 'wukari', 'teknaf', 'dahuk', 'kaputa', 'ornes', 'port macquarie', 'tocopilla', 'hasaki', 'fortuna', 'te anau', 'kaitangata', 'limon', 'khomeynishahr', 'ossora', 'lavrentiya', 'san rafael', 'haines junction', 'terra rica', 'kutum', 'mirpur bathoro', 'burica', 'avera', 'gorno-chuyskiy', 'alofi', 'hihifo', 'marzuq', 'geraldton', 'carauari', 'grand gaube', 'urubicha', 'lata', 'butaritari', 'rawson', 'peniche', 'konstantinovka', 'san lazaro', 'bengkulu', 'karratha', 'ilulissat', 'castro', 'christchurch', 'mount isa', 'waddan', 'rawannawi', 'bouloupari', 'avarua', 'okhotsk', 'terrace', 'caravelas', 'touros', 'krasnik', 'cherskiy', 'hunza', 'coahuayana', 'luderitz', 'rudbar', 'grindavik', 'wadi musa', 'cananea', 'havelock', 'amparafaravola', 'funadhoo', 'bahia blanca', 'tasiilaq', 'pangnirtung', 'mabaruma', 'belmonte', 'manokwari', 'sinkat', 'kelo', 'goderich', 'lovosice', 'arica', 'lagoa', 'dujuma', 'brae', 'kahului', 'torbay', 'vardo', 'yumen', 'amderma', 'medvedka', 'saint-philippe', 'taoudenni', 'sagua la grande', 'kaniama', 'faranah', 'vila', 'quatre cocos', 'gornyy', 'fairbanks', 'jimo', 'mattru', 'jiroft', 'mount gambier', 'cidreira', 'ostrovnoy', 'khash', 'bulgan', 'cabo san lucas', 'labunista', 'aklavik', 'umm lajj', 'yarmouth', 'eldama ravine', 'ust-kamchatsk', 'nurota', 'udachnyy', 'arraial do cabo', 'cayenne', 'nyrob', 'catalina', 'olafsvik', 'warqla', 'sangueya', 'mandalgovi', 'samalaeulu', 'sao filipe', 'quang ngai', 'barmer', 'souillac', 'tura', 'benito juarez', 'timbo', 'cuamba', 'norman wells', 'airai', 'codrington', 'sitka', 'candido de abreu', 'constitucion', 'katha', 'kostino', 'djambala', 'ahipara', 'bambous virieux', 'mayskiy', 'bargal', 'yiyang', 'petropavlovsk-kamchatskiy', 'karpogory', 'bang khla', 'gat', 'mapastepec', 'benguela', 'tuatapere', 'eureka', 'magdalena', 'tumbagaan', 'badaojiang', 'rungata', 'lompoc', 'ozernovskiy', 'imbituba', 'wilmington', 'korla', 'vila franca do campo', 'halalo', 'vao', 'skjervoy', 'wewak', 'nouadhibou', 'raudeberg', 'otane', 'mezen', 'sobolevo', 'ust-kuyga', 'nouakchott', 'georgetown', 'banjar', 'smithers', 'mys shmidta', 'awjilah', 'lolua', 'tezu', 'assomada', 'ituni', 'guiratinga', 'laguna', 'suzhou', 'nishihara', 'porto velho', 'san jose', 'sulangan', 'saint-pierre', 'hirara', 'ndola', 'vicuna', 'bolungarvik', 'skibbereen', 'flinders', 'nara', 'namatanai', 'ozinki', 'falealupo', 'coquimbo', 'kyren', 'nhulunbuy', 'canutama', 'alta floresta', 'katsuura', 'lebedinyy', 'key west', 'katobu', 'marawi', 'tracy', 'wahiawa', 'escuinapa', 'san joaquin', 'victoria', 'indramayu', 'kangaatsiaq', 'vredendal', 'grand-lahou', 'miguel alves', 'dutse', 'solnechnyy', 'yulara', 'zhangzhou', 'pokhara', 'hualmay', 'singapore', 'nome', 'havoysund', 'shenzhen', 'kiama', 'turayf', 'imeni poliny osipenko', 'aranos', 'chapais', 'corinto', 'polunochnoye', 'new bedford', 'bandarbeyla', 'myanaung', 'trzebiatow', 'progreso', 'ayan', 'veraval', 'khani', 'husavik', 'pandharpur', 'corowa', 'arua', 'karkaralinsk', 'redlands', 'mus', 'ures', 'finschhafen', 'nizhneyansk', 'partenit', 'zaozerne', 'mount pleasant', 'valle de juarez', 'poum', 'oktyabrskoye', 'shchelyayur', 'southbridge', 'gubkinskiy', 'mahebourg', 'ceres', 'pacific grove', 'darnah', 'krasnovka', 'afanasyevo', 'porangatu', 'otradnoye', 'havre-saint-pierre', 'narsaq', 'destin', 'kasongo', 'ballina', 'hokitika', 'fort nelson', 'iquique', 'botwood', 'lubango', 'itarema', 'taltal', 'general artigas', 'vanimo', 'sorland', 'susuman', 'atambua', 'sola', 'clyde river', 'porto novo', 'port lincoln', 'kittery', 'ikalamavony', 'makakilo city', 'asau', 'richards bay', 'cocobeach', 'hervey bay', 'valkla', 'tonantins', 'cedar city', 'sycow', 'dali', 'half moon bay', 'maragogi', 'zyryanka', 'ayagoz', 'adrar', 'champerico', 'almaty', 'dayong', 'acarau', 'totness', 'tiznit', 'kurilsk', 'dunedin', 'wanning', 'portland', 'lorengau', 'amapa', 'angoram', 'altamont', 'eydhafushi', 'bereda', 'evensk', 'vallenar', 'buta', 'okitipupa', 'kibondo', 'koppang', 'iqaluit', 'qaqortoq', 'xapuri', 'astoria', 'graaff-reinet', 'coihaique', 'touho', 'camocim', 'tigil', 'loknya', 'caracuaro', 'north platte', 'elat', 'kungurtug', 'ixtapa', 'sokoni', 'matam', 'saint-ambroise', 'san ignacio', 'barahona', 'olga', 'kamenskoye', 'casino', 'esperance', 'kavaratti', 'marcona', 'civitanova marche', 'rio gallegos', 'antofagasta', 'sinjai', 'kilindoni', 'hami', 'itoigawa', 'anloga', 'rio grande', 'winnemucca', 'mari-turek', 'palu', 'goma', 'camacha', 'vaitupu', 'chagda', 'iki-burul', 'tongzi', 'paciran', 'mnogovershinnyy', 'sangar', 'ryotsu', 'terme', 'methoni', 'skagastrond', 'penzance', 'neiafu', 'tromso', 'japura', 'aban', 'mahenge', 'tetouan', 'grand-santi', 'deputatskiy', 'sivas', 'kologriv', 'nanortalik', 'aksarka', 'presidencia roque saenz pena', 'buraydah', 'umzimvubu', 'williams lake', 'sapa', 'belaya gora', 'berlevag', 'launceston', 'bozeman', 'nongstoin', 'gwanda', 'khandbari', 'shepsi', 'west plains', 'maryborough', 'goumenissa', 'maturin', 'ishigaki', 'mirai', 'tautira', 'bubaque', 'moose factory', 'sorvag', 'opuwo', 'qostanay', 'santa fe', 'tamandare', 'oyugis', 'smirnykh', 'yoichi', 'zhanatas', 'kyshtovka', 'mehamn', 'dukat', 'hailar', 'oktyabrskiy', 'nauta', 'newala', 'nioro', 'elko', 'miquelon', 'tawau', 'majene', 'fare', 'sandwick', 'mae hong son', 'arman', 'pandan', 'necochea', 'bujumbura', 'balakliya', 'truth or consequences', 'nakamura', 'jonkoping', 'takoradi', 'genhe', 'moron', 'kalmunai', 'halmstad', 'kabare', 'iraray']\n"
     ]
    }
   ],
   "source": [
    "print(cities)"
   ]
  },
  {
   "cell_type": "code",
   "execution_count": null,
   "id": "789efb36",
   "metadata": {},
   "outputs": [],
   "source": []
  }
 ],
 "metadata": {
  "kernelspec": {
   "display_name": "PythonData",
   "language": "python",
   "name": "pythondata"
  },
  "language_info": {
   "codemirror_mode": {
    "name": "ipython",
    "version": 3
   },
   "file_extension": ".py",
   "mimetype": "text/x-python",
   "name": "python",
   "nbconvert_exporter": "python",
   "pygments_lexer": "ipython3",
   "version": "3.7.10"
  }
 },
 "nbformat": 4,
 "nbformat_minor": 5
}
